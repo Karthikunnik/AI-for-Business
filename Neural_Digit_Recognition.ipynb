{
 "cells": [
  {
   "cell_type": "code",
   "execution_count": 1,
   "id": "f6e66682",
   "metadata": {
    "_cell_guid": "b1076dfc-b9ad-4769-8c92-a6c4dae69d19",
    "_uuid": "8f2839f25d086af736a60e9eeb907d3b93b6e0e5",
    "execution": {
     "iopub.execute_input": "2022-10-19T19:47:48.375789Z",
     "iopub.status.busy": "2022-10-19T19:47:48.375086Z",
     "iopub.status.idle": "2022-10-19T19:47:55.851838Z",
     "shell.execute_reply": "2022-10-19T19:47:55.850185Z"
    },
    "papermill": {
     "duration": 7.490336,
     "end_time": "2022-10-19T19:47:55.855391",
     "exception": false,
     "start_time": "2022-10-19T19:47:48.365055",
     "status": "completed"
    },
    "tags": []
   },
   "outputs": [],
   "source": [
    "#Import libraries\n",
    "import numpy as np\n",
    "import pandas as pd\n",
    "\n",
    "import tensorflow as tf\n",
    "from tensorflow.keras.models import Sequential\n",
    "from tensorflow.keras.layers import Dense\n",
    "from tensorflow.keras.activations import linear, relu, sigmoid\n",
    "\n",
    "%matplotlib widget\n",
    "import matplotlib.pyplot as plt \n"
   ]
  },
  {
   "cell_type": "markdown",
   "id": "641af0ec",
   "metadata": {
    "papermill": {
     "duration": 0.004855,
     "end_time": "2022-10-19T19:47:55.865891",
     "exception": false,
     "start_time": "2022-10-19T19:47:55.861036",
     "status": "completed"
    },
    "tags": []
   },
   "source": [
    "# **Load data**"
   ]
  },
  {
   "cell_type": "code",
   "execution_count": 2,
   "id": "3486f5c4",
   "metadata": {
    "execution": {
     "iopub.execute_input": "2022-10-19T19:47:55.879307Z",
     "iopub.status.busy": "2022-10-19T19:47:55.878391Z",
     "iopub.status.idle": "2022-10-19T19:47:59.665268Z",
     "shell.execute_reply": "2022-10-19T19:47:59.663905Z"
    },
    "papermill": {
     "duration": 3.800484,
     "end_time": "2022-10-19T19:47:59.671697",
     "exception": false,
     "start_time": "2022-10-19T19:47:55.871213",
     "status": "completed"
    },
    "tags": []
   },
   "outputs": [
    {
     "name": "stdout",
     "output_type": "stream",
     "text": [
      "(42000, 785)\n"
     ]
    },
    {
     "data": {
      "text/html": [
       "<div>\n",
       "<style scoped>\n",
       "    .dataframe tbody tr th:only-of-type {\n",
       "        vertical-align: middle;\n",
       "    }\n",
       "\n",
       "    .dataframe tbody tr th {\n",
       "        vertical-align: top;\n",
       "    }\n",
       "\n",
       "    .dataframe thead th {\n",
       "        text-align: right;\n",
       "    }\n",
       "</style>\n",
       "<table border=\"1\" class=\"dataframe\">\n",
       "  <thead>\n",
       "    <tr style=\"text-align: right;\">\n",
       "      <th></th>\n",
       "      <th>label</th>\n",
       "      <th>pixel0</th>\n",
       "      <th>pixel1</th>\n",
       "      <th>pixel2</th>\n",
       "      <th>pixel3</th>\n",
       "      <th>pixel4</th>\n",
       "      <th>pixel5</th>\n",
       "      <th>pixel6</th>\n",
       "      <th>pixel7</th>\n",
       "      <th>pixel8</th>\n",
       "      <th>...</th>\n",
       "      <th>pixel774</th>\n",
       "      <th>pixel775</th>\n",
       "      <th>pixel776</th>\n",
       "      <th>pixel777</th>\n",
       "      <th>pixel778</th>\n",
       "      <th>pixel779</th>\n",
       "      <th>pixel780</th>\n",
       "      <th>pixel781</th>\n",
       "      <th>pixel782</th>\n",
       "      <th>pixel783</th>\n",
       "    </tr>\n",
       "  </thead>\n",
       "  <tbody>\n",
       "    <tr>\n",
       "      <th>0</th>\n",
       "      <td>1</td>\n",
       "      <td>0</td>\n",
       "      <td>0</td>\n",
       "      <td>0</td>\n",
       "      <td>0</td>\n",
       "      <td>0</td>\n",
       "      <td>0</td>\n",
       "      <td>0</td>\n",
       "      <td>0</td>\n",
       "      <td>0</td>\n",
       "      <td>...</td>\n",
       "      <td>0</td>\n",
       "      <td>0</td>\n",
       "      <td>0</td>\n",
       "      <td>0</td>\n",
       "      <td>0</td>\n",
       "      <td>0</td>\n",
       "      <td>0</td>\n",
       "      <td>0</td>\n",
       "      <td>0</td>\n",
       "      <td>0</td>\n",
       "    </tr>\n",
       "    <tr>\n",
       "      <th>1</th>\n",
       "      <td>0</td>\n",
       "      <td>0</td>\n",
       "      <td>0</td>\n",
       "      <td>0</td>\n",
       "      <td>0</td>\n",
       "      <td>0</td>\n",
       "      <td>0</td>\n",
       "      <td>0</td>\n",
       "      <td>0</td>\n",
       "      <td>0</td>\n",
       "      <td>...</td>\n",
       "      <td>0</td>\n",
       "      <td>0</td>\n",
       "      <td>0</td>\n",
       "      <td>0</td>\n",
       "      <td>0</td>\n",
       "      <td>0</td>\n",
       "      <td>0</td>\n",
       "      <td>0</td>\n",
       "      <td>0</td>\n",
       "      <td>0</td>\n",
       "    </tr>\n",
       "    <tr>\n",
       "      <th>2</th>\n",
       "      <td>1</td>\n",
       "      <td>0</td>\n",
       "      <td>0</td>\n",
       "      <td>0</td>\n",
       "      <td>0</td>\n",
       "      <td>0</td>\n",
       "      <td>0</td>\n",
       "      <td>0</td>\n",
       "      <td>0</td>\n",
       "      <td>0</td>\n",
       "      <td>...</td>\n",
       "      <td>0</td>\n",
       "      <td>0</td>\n",
       "      <td>0</td>\n",
       "      <td>0</td>\n",
       "      <td>0</td>\n",
       "      <td>0</td>\n",
       "      <td>0</td>\n",
       "      <td>0</td>\n",
       "      <td>0</td>\n",
       "      <td>0</td>\n",
       "    </tr>\n",
       "    <tr>\n",
       "      <th>3</th>\n",
       "      <td>4</td>\n",
       "      <td>0</td>\n",
       "      <td>0</td>\n",
       "      <td>0</td>\n",
       "      <td>0</td>\n",
       "      <td>0</td>\n",
       "      <td>0</td>\n",
       "      <td>0</td>\n",
       "      <td>0</td>\n",
       "      <td>0</td>\n",
       "      <td>...</td>\n",
       "      <td>0</td>\n",
       "      <td>0</td>\n",
       "      <td>0</td>\n",
       "      <td>0</td>\n",
       "      <td>0</td>\n",
       "      <td>0</td>\n",
       "      <td>0</td>\n",
       "      <td>0</td>\n",
       "      <td>0</td>\n",
       "      <td>0</td>\n",
       "    </tr>\n",
       "    <tr>\n",
       "      <th>4</th>\n",
       "      <td>0</td>\n",
       "      <td>0</td>\n",
       "      <td>0</td>\n",
       "      <td>0</td>\n",
       "      <td>0</td>\n",
       "      <td>0</td>\n",
       "      <td>0</td>\n",
       "      <td>0</td>\n",
       "      <td>0</td>\n",
       "      <td>0</td>\n",
       "      <td>...</td>\n",
       "      <td>0</td>\n",
       "      <td>0</td>\n",
       "      <td>0</td>\n",
       "      <td>0</td>\n",
       "      <td>0</td>\n",
       "      <td>0</td>\n",
       "      <td>0</td>\n",
       "      <td>0</td>\n",
       "      <td>0</td>\n",
       "      <td>0</td>\n",
       "    </tr>\n",
       "  </tbody>\n",
       "</table>\n",
       "<p>5 rows × 785 columns</p>\n",
       "</div>"
      ],
      "text/plain": [
       "   label  pixel0  pixel1  pixel2  pixel3  pixel4  pixel5  pixel6  pixel7  \\\n",
       "0      1       0       0       0       0       0       0       0       0   \n",
       "1      0       0       0       0       0       0       0       0       0   \n",
       "2      1       0       0       0       0       0       0       0       0   \n",
       "3      4       0       0       0       0       0       0       0       0   \n",
       "4      0       0       0       0       0       0       0       0       0   \n",
       "\n",
       "   pixel8  ...  pixel774  pixel775  pixel776  pixel777  pixel778  pixel779  \\\n",
       "0       0  ...         0         0         0         0         0         0   \n",
       "1       0  ...         0         0         0         0         0         0   \n",
       "2       0  ...         0         0         0         0         0         0   \n",
       "3       0  ...         0         0         0         0         0         0   \n",
       "4       0  ...         0         0         0         0         0         0   \n",
       "\n",
       "   pixel780  pixel781  pixel782  pixel783  \n",
       "0         0         0         0         0  \n",
       "1         0         0         0         0  \n",
       "2         0         0         0         0  \n",
       "3         0         0         0         0  \n",
       "4         0         0         0         0  \n",
       "\n",
       "[5 rows x 785 columns]"
      ]
     },
     "execution_count": 2,
     "metadata": {},
     "output_type": "execute_result"
    }
   ],
   "source": [
    "#select training set \n",
    "train = pd.read_csv('train_2.csv')\n",
    "print(train.shape)\n",
    "train.head()"
   ]
  },
  {
   "cell_type": "code",
   "execution_count": 3,
   "id": "47418782",
   "metadata": {
    "execution": {
     "iopub.execute_input": "2022-10-19T19:47:59.685929Z",
     "iopub.status.busy": "2022-10-19T19:47:59.685377Z",
     "iopub.status.idle": "2022-10-19T19:48:01.918837Z",
     "shell.execute_reply": "2022-10-19T19:48:01.917210Z"
    },
    "papermill": {
     "duration": 2.244534,
     "end_time": "2022-10-19T19:48:01.922161",
     "exception": false,
     "start_time": "2022-10-19T19:47:59.677627",
     "status": "completed"
    },
    "tags": []
   },
   "outputs": [
    {
     "name": "stdout",
     "output_type": "stream",
     "text": [
      "(28000, 784)\n"
     ]
    },
    {
     "data": {
      "text/html": [
       "<div>\n",
       "<style scoped>\n",
       "    .dataframe tbody tr th:only-of-type {\n",
       "        vertical-align: middle;\n",
       "    }\n",
       "\n",
       "    .dataframe tbody tr th {\n",
       "        vertical-align: top;\n",
       "    }\n",
       "\n",
       "    .dataframe thead th {\n",
       "        text-align: right;\n",
       "    }\n",
       "</style>\n",
       "<table border=\"1\" class=\"dataframe\">\n",
       "  <thead>\n",
       "    <tr style=\"text-align: right;\">\n",
       "      <th></th>\n",
       "      <th>pixel0</th>\n",
       "      <th>pixel1</th>\n",
       "      <th>pixel2</th>\n",
       "      <th>pixel3</th>\n",
       "      <th>pixel4</th>\n",
       "      <th>pixel5</th>\n",
       "      <th>pixel6</th>\n",
       "      <th>pixel7</th>\n",
       "      <th>pixel8</th>\n",
       "      <th>pixel9</th>\n",
       "      <th>...</th>\n",
       "      <th>pixel774</th>\n",
       "      <th>pixel775</th>\n",
       "      <th>pixel776</th>\n",
       "      <th>pixel777</th>\n",
       "      <th>pixel778</th>\n",
       "      <th>pixel779</th>\n",
       "      <th>pixel780</th>\n",
       "      <th>pixel781</th>\n",
       "      <th>pixel782</th>\n",
       "      <th>pixel783</th>\n",
       "    </tr>\n",
       "  </thead>\n",
       "  <tbody>\n",
       "    <tr>\n",
       "      <th>0</th>\n",
       "      <td>0</td>\n",
       "      <td>0</td>\n",
       "      <td>0</td>\n",
       "      <td>0</td>\n",
       "      <td>0</td>\n",
       "      <td>0</td>\n",
       "      <td>0</td>\n",
       "      <td>0</td>\n",
       "      <td>0</td>\n",
       "      <td>0</td>\n",
       "      <td>...</td>\n",
       "      <td>0</td>\n",
       "      <td>0</td>\n",
       "      <td>0</td>\n",
       "      <td>0</td>\n",
       "      <td>0</td>\n",
       "      <td>0</td>\n",
       "      <td>0</td>\n",
       "      <td>0</td>\n",
       "      <td>0</td>\n",
       "      <td>0</td>\n",
       "    </tr>\n",
       "    <tr>\n",
       "      <th>1</th>\n",
       "      <td>0</td>\n",
       "      <td>0</td>\n",
       "      <td>0</td>\n",
       "      <td>0</td>\n",
       "      <td>0</td>\n",
       "      <td>0</td>\n",
       "      <td>0</td>\n",
       "      <td>0</td>\n",
       "      <td>0</td>\n",
       "      <td>0</td>\n",
       "      <td>...</td>\n",
       "      <td>0</td>\n",
       "      <td>0</td>\n",
       "      <td>0</td>\n",
       "      <td>0</td>\n",
       "      <td>0</td>\n",
       "      <td>0</td>\n",
       "      <td>0</td>\n",
       "      <td>0</td>\n",
       "      <td>0</td>\n",
       "      <td>0</td>\n",
       "    </tr>\n",
       "    <tr>\n",
       "      <th>2</th>\n",
       "      <td>0</td>\n",
       "      <td>0</td>\n",
       "      <td>0</td>\n",
       "      <td>0</td>\n",
       "      <td>0</td>\n",
       "      <td>0</td>\n",
       "      <td>0</td>\n",
       "      <td>0</td>\n",
       "      <td>0</td>\n",
       "      <td>0</td>\n",
       "      <td>...</td>\n",
       "      <td>0</td>\n",
       "      <td>0</td>\n",
       "      <td>0</td>\n",
       "      <td>0</td>\n",
       "      <td>0</td>\n",
       "      <td>0</td>\n",
       "      <td>0</td>\n",
       "      <td>0</td>\n",
       "      <td>0</td>\n",
       "      <td>0</td>\n",
       "    </tr>\n",
       "    <tr>\n",
       "      <th>3</th>\n",
       "      <td>0</td>\n",
       "      <td>0</td>\n",
       "      <td>0</td>\n",
       "      <td>0</td>\n",
       "      <td>0</td>\n",
       "      <td>0</td>\n",
       "      <td>0</td>\n",
       "      <td>0</td>\n",
       "      <td>0</td>\n",
       "      <td>0</td>\n",
       "      <td>...</td>\n",
       "      <td>0</td>\n",
       "      <td>0</td>\n",
       "      <td>0</td>\n",
       "      <td>0</td>\n",
       "      <td>0</td>\n",
       "      <td>0</td>\n",
       "      <td>0</td>\n",
       "      <td>0</td>\n",
       "      <td>0</td>\n",
       "      <td>0</td>\n",
       "    </tr>\n",
       "    <tr>\n",
       "      <th>4</th>\n",
       "      <td>0</td>\n",
       "      <td>0</td>\n",
       "      <td>0</td>\n",
       "      <td>0</td>\n",
       "      <td>0</td>\n",
       "      <td>0</td>\n",
       "      <td>0</td>\n",
       "      <td>0</td>\n",
       "      <td>0</td>\n",
       "      <td>0</td>\n",
       "      <td>...</td>\n",
       "      <td>0</td>\n",
       "      <td>0</td>\n",
       "      <td>0</td>\n",
       "      <td>0</td>\n",
       "      <td>0</td>\n",
       "      <td>0</td>\n",
       "      <td>0</td>\n",
       "      <td>0</td>\n",
       "      <td>0</td>\n",
       "      <td>0</td>\n",
       "    </tr>\n",
       "  </tbody>\n",
       "</table>\n",
       "<p>5 rows × 784 columns</p>\n",
       "</div>"
      ],
      "text/plain": [
       "   pixel0  pixel1  pixel2  pixel3  pixel4  pixel5  pixel6  pixel7  pixel8  \\\n",
       "0       0       0       0       0       0       0       0       0       0   \n",
       "1       0       0       0       0       0       0       0       0       0   \n",
       "2       0       0       0       0       0       0       0       0       0   \n",
       "3       0       0       0       0       0       0       0       0       0   \n",
       "4       0       0       0       0       0       0       0       0       0   \n",
       "\n",
       "   pixel9  ...  pixel774  pixel775  pixel776  pixel777  pixel778  pixel779  \\\n",
       "0       0  ...         0         0         0         0         0         0   \n",
       "1       0  ...         0         0         0         0         0         0   \n",
       "2       0  ...         0         0         0         0         0         0   \n",
       "3       0  ...         0         0         0         0         0         0   \n",
       "4       0  ...         0         0         0         0         0         0   \n",
       "\n",
       "   pixel780  pixel781  pixel782  pixel783  \n",
       "0         0         0         0         0  \n",
       "1         0         0         0         0  \n",
       "2         0         0         0         0  \n",
       "3         0         0         0         0  \n",
       "4         0         0         0         0  \n",
       "\n",
       "[5 rows x 784 columns]"
      ]
     },
     "execution_count": 3,
     "metadata": {},
     "output_type": "execute_result"
    }
   ],
   "source": [
    "#select test set\n",
    "test = pd.read_csv('test_2.csv')\n",
    "print(test.shape)\n",
    "\n",
    "test.head()"
   ]
  },
  {
   "cell_type": "code",
   "execution_count": 4,
   "id": "bad6e807",
   "metadata": {
    "execution": {
     "iopub.execute_input": "2022-10-19T19:48:01.937069Z",
     "iopub.status.busy": "2022-10-19T19:48:01.936591Z",
     "iopub.status.idle": "2022-10-19T19:48:02.084263Z",
     "shell.execute_reply": "2022-10-19T19:48:02.082705Z"
    },
    "papermill": {
     "duration": 0.158662,
     "end_time": "2022-10-19T19:48:02.087351",
     "exception": false,
     "start_time": "2022-10-19T19:48:01.928689",
     "status": "completed"
    },
    "tags": []
   },
   "outputs": [],
   "source": [
    "X_train = (train.iloc[:, 1:].values).astype('float32')\n",
    "y_train = (train.iloc[:, 0].values).astype('int32')\n",
    "\n",
    "X_test = test.values.astype('float32')"
   ]
  },
  {
   "cell_type": "code",
   "execution_count": 5,
   "id": "81421dd2",
   "metadata": {
    "execution": {
     "iopub.execute_input": "2022-10-19T19:48:02.102006Z",
     "iopub.status.busy": "2022-10-19T19:48:02.101467Z",
     "iopub.status.idle": "2022-10-19T19:48:02.110442Z",
     "shell.execute_reply": "2022-10-19T19:48:02.109196Z"
    },
    "papermill": {
     "duration": 0.01928,
     "end_time": "2022-10-19T19:48:02.112812",
     "exception": false,
     "start_time": "2022-10-19T19:48:02.093532",
     "status": "completed"
    },
    "tags": []
   },
   "outputs": [
    {
     "data": {
      "text/plain": [
       "array([[0., 0., 0., ..., 0., 0., 0.],\n",
       "       [0., 0., 0., ..., 0., 0., 0.],\n",
       "       [0., 0., 0., ..., 0., 0., 0.],\n",
       "       ...,\n",
       "       [0., 0., 0., ..., 0., 0., 0.],\n",
       "       [0., 0., 0., ..., 0., 0., 0.],\n",
       "       [0., 0., 0., ..., 0., 0., 0.]], dtype=float32)"
      ]
     },
     "execution_count": 5,
     "metadata": {},
     "output_type": "execute_result"
    }
   ],
   "source": [
    "X_train"
   ]
  },
  {
   "cell_type": "code",
   "execution_count": 6,
   "id": "58280d7e",
   "metadata": {
    "execution": {
     "iopub.execute_input": "2022-10-19T19:48:02.127489Z",
     "iopub.status.busy": "2022-10-19T19:48:02.126998Z",
     "iopub.status.idle": "2022-10-19T19:48:02.137027Z",
     "shell.execute_reply": "2022-10-19T19:48:02.135637Z"
    },
    "papermill": {
     "duration": 0.020387,
     "end_time": "2022-10-19T19:48:02.139754",
     "exception": false,
     "start_time": "2022-10-19T19:48:02.119367",
     "status": "completed"
    },
    "tags": []
   },
   "outputs": [
    {
     "data": {
      "text/plain": [
       "array([1, 0, 1, ..., 7, 6, 9])"
      ]
     },
     "execution_count": 6,
     "metadata": {},
     "output_type": "execute_result"
    }
   ],
   "source": [
    "y_train"
   ]
  },
  {
   "cell_type": "markdown",
   "id": "180e457d",
   "metadata": {
    "papermill": {
     "duration": 0.006658,
     "end_time": "2022-10-19T19:48:02.153023",
     "exception": false,
     "start_time": "2022-10-19T19:48:02.146365",
     "status": "completed"
    },
    "tags": []
   },
   "source": [
    "# Visualizing the Data"
   ]
  },
  {
   "cell_type": "code",
   "execution_count": 7,
   "id": "ea691bf0",
   "metadata": {
    "execution": {
     "iopub.execute_input": "2022-10-19T19:48:02.168699Z",
     "iopub.status.busy": "2022-10-19T19:48:02.168178Z",
     "iopub.status.idle": "2022-10-19T19:48:02.225081Z",
     "shell.execute_reply": "2022-10-19T19:48:02.223843Z"
    },
    "papermill": {
     "duration": 0.067345,
     "end_time": "2022-10-19T19:48:02.227623",
     "exception": false,
     "start_time": "2022-10-19T19:48:02.160278",
     "status": "completed"
    },
    "tags": []
   },
   "outputs": [
    {
     "data": {
      "application/vnd.jupyter.widget-view+json": {
       "model_id": "16d0c489da61420b90ae2a5effb54ef8",
       "version_major": 2,
       "version_minor": 0
      },
      "text/html": [
       "\n",
       "            <div style=\"display: inline-block;\">\n",
       "                <div class=\"jupyter-widgets widget-label\" style=\"text-align: center;\">\n",
       "                    Figure\n",
       "                </div>\n",
       "                <img src='data:image/png;base64,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' width=640.0/>\n",
       "            </div>\n",
       "        "
      ],
      "text/plain": [
       "Canvas(toolbar=Toolbar(toolitems=[('Home', 'Reset original view', 'home', 'home'), ('Back', 'Back to previous …"
      ]
     },
     "metadata": {},
     "output_type": "display_data"
    }
   ],
   "source": [
    "X_reshaped = X_train.reshape(X_train.shape[0], 28, 28)\n",
    "\n",
    "plt.figure()\n",
    "plt.imshow(X_reshaped[10], cmap=plt.get_cmap('gray'))\n",
    "plt.title(y_train[10]);"
   ]
  },
  {
   "cell_type": "markdown",
   "id": "34ab7a2f",
   "metadata": {
    "papermill": {
     "duration": 0.00657,
     "end_time": "2022-10-19T19:48:02.240788",
     "exception": false,
     "start_time": "2022-10-19T19:48:02.234218",
     "status": "completed"
    },
    "tags": []
   },
   "source": [
    "# Tensorflow Model Implementation"
   ]
  },
  {
   "cell_type": "code",
   "execution_count": 8,
   "id": "ca154e15",
   "metadata": {
    "execution": {
     "iopub.execute_input": "2022-10-19T19:48:02.256172Z",
     "iopub.status.busy": "2022-10-19T19:48:02.255671Z",
     "iopub.status.idle": "2022-10-19T19:48:02.565640Z",
     "shell.execute_reply": "2022-10-19T19:48:02.564585Z"
    },
    "papermill": {
     "duration": 0.320906,
     "end_time": "2022-10-19T19:48:02.568239",
     "exception": false,
     "start_time": "2022-10-19T19:48:02.247333",
     "status": "completed"
    },
    "tags": []
   },
   "outputs": [],
   "source": [
    "tf.random.set_seed(1234)\n",
    "\n",
    "#relu in fisrt two layers - because we are working with Multiclass Classification problem (not binary classification). \n",
    "#linear in the last layers - more accurate implementation of softmax\n",
    "model = Sequential(\n",
    "    [\n",
    "        tf.keras.Input(shape=(784,)),\n",
    "        Dense(40, activation='relu', name='L1'),\n",
    "        Dense(15, activation='relu', name='L2'),\n",
    "        Dense(10, activation='linear', name='L3'),\n",
    "    ], name = 'model'\n",
    ")"
   ]
  },
  {
   "cell_type": "code",
   "execution_count": 9,
   "id": "e0fcbfab",
   "metadata": {
    "execution": {
     "iopub.execute_input": "2022-10-19T19:48:02.583630Z",
     "iopub.status.busy": "2022-10-19T19:48:02.582685Z",
     "iopub.status.idle": "2022-10-19T19:48:02.592185Z",
     "shell.execute_reply": "2022-10-19T19:48:02.590824Z"
    },
    "papermill": {
     "duration": 0.020147,
     "end_time": "2022-10-19T19:48:02.594935",
     "exception": false,
     "start_time": "2022-10-19T19:48:02.574788",
     "status": "completed"
    },
    "tags": []
   },
   "outputs": [
    {
     "name": "stdout",
     "output_type": "stream",
     "text": [
      "Model: \"model\"\n",
      "_________________________________________________________________\n",
      " Layer (type)                Output Shape              Param #   \n",
      "=================================================================\n",
      " L1 (Dense)                  (None, 40)                31400     \n",
      "                                                                 \n",
      " L2 (Dense)                  (None, 15)                615       \n",
      "                                                                 \n",
      " L3 (Dense)                  (None, 10)                160       \n",
      "                                                                 \n",
      "=================================================================\n",
      "Total params: 32,175\n",
      "Trainable params: 32,175\n",
      "Non-trainable params: 0\n",
      "_________________________________________________________________\n"
     ]
    }
   ],
   "source": [
    "model.summary()"
   ]
  },
  {
   "cell_type": "code",
   "execution_count": 10,
   "id": "d6874ba6",
   "metadata": {
    "execution": {
     "iopub.execute_input": "2022-10-19T19:48:02.611291Z",
     "iopub.status.busy": "2022-10-19T19:48:02.610793Z",
     "iopub.status.idle": "2022-10-19T19:48:02.616538Z",
     "shell.execute_reply": "2022-10-19T19:48:02.615243Z"
    },
    "papermill": {
     "duration": 0.01722,
     "end_time": "2022-10-19T19:48:02.619932",
     "exception": false,
     "start_time": "2022-10-19T19:48:02.602712",
     "status": "completed"
    },
    "tags": []
   },
   "outputs": [],
   "source": [
    "#getting layers\n",
    "[layer1, layer2, layer3] = model.layers"
   ]
  },
  {
   "cell_type": "code",
   "execution_count": 11,
   "id": "52689baa",
   "metadata": {
    "execution": {
     "iopub.execute_input": "2022-10-19T19:48:02.636184Z",
     "iopub.status.busy": "2022-10-19T19:48:02.635053Z",
     "iopub.status.idle": "2022-10-19T19:48:02.647176Z",
     "shell.execute_reply": "2022-10-19T19:48:02.645398Z"
    },
    "papermill": {
     "duration": 0.02401,
     "end_time": "2022-10-19T19:48:02.651004",
     "exception": false,
     "start_time": "2022-10-19T19:48:02.626994",
     "status": "completed"
    },
    "tags": []
   },
   "outputs": [
    {
     "name": "stdout",
     "output_type": "stream",
     "text": [
      "W1 shape = (784, 40), b1 shape = (40,)\n",
      "W2 shape = (40, 15), b2 shape = (15,)\n",
      "W3 shape = (15, 10), b3 shape = (10,)\n"
     ]
    }
   ],
   "source": [
    "#getting info about each layer\n",
    "W1,b1 = layer1.get_weights()\n",
    "W2,b2 = layer2.get_weights()\n",
    "W3,b3 = layer3.get_weights()\n",
    "print(f\"W1 shape = {W1.shape}, b1 shape = {b1.shape}\")\n",
    "print(f\"W2 shape = {W2.shape}, b2 shape = {b2.shape}\")\n",
    "print(f\"W3 shape = {W3.shape}, b3 shape = {b3.shape}\")"
   ]
  },
  {
   "cell_type": "code",
   "execution_count": 12,
   "id": "6685b003",
   "metadata": {
    "execution": {
     "iopub.execute_input": "2022-10-19T19:48:02.668163Z",
     "iopub.status.busy": "2022-10-19T19:48:02.667203Z",
     "iopub.status.idle": "2022-10-19T19:50:25.419605Z",
     "shell.execute_reply": "2022-10-19T19:50:25.418141Z"
    },
    "papermill": {
     "duration": 142.764094,
     "end_time": "2022-10-19T19:50:25.422520",
     "exception": false,
     "start_time": "2022-10-19T19:48:02.658426",
     "status": "completed"
    },
    "tags": []
   },
   "outputs": [
    {
     "name": "stdout",
     "output_type": "stream",
     "text": [
      "Epoch 1/40\n",
      "1313/1313 [==============================] - 2s 1ms/step - loss: 2.3917\n",
      "Epoch 2/40\n",
      "1313/1313 [==============================] - 1s 1ms/step - loss: 1.2929\n",
      "Epoch 3/40\n",
      "1313/1313 [==============================] - 1s 1ms/step - loss: 1.1023\n",
      "Epoch 4/40\n",
      "1313/1313 [==============================] - 2s 1ms/step - loss: 0.9216\n",
      "Epoch 5/40\n",
      "1313/1313 [==============================] - 2s 1ms/step - loss: 0.6202\n",
      "Epoch 6/40\n",
      "1313/1313 [==============================] - 1s 1ms/step - loss: 0.3980\n",
      "Epoch 7/40\n",
      "1313/1313 [==============================] - 1s 1ms/step - loss: 0.3053\n",
      "Epoch 8/40\n",
      "1313/1313 [==============================] - 1s 1ms/step - loss: 0.2437\n",
      "Epoch 9/40\n",
      "1313/1313 [==============================] - 1s 998us/step - loss: 0.2077\n",
      "Epoch 10/40\n",
      "1313/1313 [==============================] - 2s 1ms/step - loss: 0.1853\n",
      "Epoch 11/40\n",
      "1313/1313 [==============================] - 2s 1ms/step - loss: 0.1670\n",
      "Epoch 12/40\n",
      "1313/1313 [==============================] - 1s 1ms/step - loss: 0.1541\n",
      "Epoch 13/40\n",
      "1313/1313 [==============================] - 1s 1ms/step - loss: 0.1414\n",
      "Epoch 14/40\n",
      "1313/1313 [==============================] - 2s 1ms/step - loss: 0.1371\n",
      "Epoch 15/40\n",
      "1313/1313 [==============================] - 2s 1ms/step - loss: 0.1253\n",
      "Epoch 16/40\n",
      "1313/1313 [==============================] - 2s 1ms/step - loss: 0.1172\n",
      "Epoch 17/40\n",
      "1313/1313 [==============================] - 2s 1ms/step - loss: 0.1203\n",
      "Epoch 18/40\n",
      "1313/1313 [==============================] - 2s 1ms/step - loss: 0.1100\n",
      "Epoch 19/40\n",
      "1313/1313 [==============================] - 2s 1ms/step - loss: 0.1081\n",
      "Epoch 20/40\n",
      "1313/1313 [==============================] - 2s 1ms/step - loss: 0.1003\n",
      "Epoch 21/40\n",
      "1313/1313 [==============================] - 1s 1ms/step - loss: 0.0961\n",
      "Epoch 22/40\n",
      "1313/1313 [==============================] - 1s 1ms/step - loss: 0.0986\n",
      "Epoch 23/40\n",
      "1313/1313 [==============================] - 2s 1ms/step - loss: 0.0890\n",
      "Epoch 24/40\n",
      "1313/1313 [==============================] - 2s 1ms/step - loss: 0.0899\n",
      "Epoch 25/40\n",
      "1313/1313 [==============================] - 2s 1ms/step - loss: 0.0880\n",
      "Epoch 26/40\n",
      "1313/1313 [==============================] - 2s 1ms/step - loss: 0.0777\n",
      "Epoch 27/40\n",
      "1313/1313 [==============================] - 2s 1ms/step - loss: 0.0823\n",
      "Epoch 28/40\n",
      "1313/1313 [==============================] - 1s 1ms/step - loss: 0.0819\n",
      "Epoch 29/40\n",
      "1313/1313 [==============================] - 2s 1ms/step - loss: 0.0806\n",
      "Epoch 30/40\n",
      "1313/1313 [==============================] - 2s 2ms/step - loss: 0.0747\n",
      "Epoch 31/40\n",
      "1313/1313 [==============================] - 2s 1ms/step - loss: 0.0767\n",
      "Epoch 32/40\n",
      "1313/1313 [==============================] - 1s 1ms/step - loss: 0.0741\n",
      "Epoch 33/40\n",
      "1313/1313 [==============================] - 1s 1ms/step - loss: 0.0703\n",
      "Epoch 34/40\n",
      "1313/1313 [==============================] - 1s 1ms/step - loss: 0.0673\n",
      "Epoch 35/40\n",
      "1313/1313 [==============================] - 2s 1ms/step - loss: 0.0687\n",
      "Epoch 36/40\n",
      "1313/1313 [==============================] - 1s 1ms/step - loss: 0.0686\n",
      "Epoch 37/40\n",
      "1313/1313 [==============================] - 2s 1ms/step - loss: 0.0691\n",
      "Epoch 38/40\n",
      "1313/1313 [==============================] - 2s 1ms/step - loss: 0.0625\n",
      "Epoch 39/40\n",
      "1313/1313 [==============================] - 1s 1ms/step - loss: 0.0636\n",
      "Epoch 40/40\n",
      "1313/1313 [==============================] - 1s 1ms/step - loss: 0.0740\n"
     ]
    }
   ],
   "source": [
    "#from_logits=True - more accurate implementation of softmax\n",
    "#Adam optimization has defalult initial learning rate Alpha (instead of Gradient Descent).\n",
    "model.compile(loss=tf.keras.losses.SparseCategoricalCrossentropy(from_logits=True),\n",
    "             optimizer=tf.keras.optimizers.Adam(learning_rate=0.001),)\n",
    "\n",
    "history = model.fit(X_train, y_train, epochs=40)"
   ]
  },
  {
   "cell_type": "code",
   "execution_count": 15,
   "id": "7eddb3c5",
   "metadata": {
    "execution": {
     "iopub.execute_input": "2022-10-19T19:50:25.757436Z",
     "iopub.status.busy": "2022-10-19T19:50:25.756957Z",
     "iopub.status.idle": "2022-10-19T19:50:25.950186Z",
     "shell.execute_reply": "2022-10-19T19:50:25.948985Z"
    },
    "papermill": {
     "duration": 0.364451,
     "end_time": "2022-10-19T19:50:25.953790",
     "exception": false,
     "start_time": "2022-10-19T19:50:25.589339",
     "status": "completed"
    },
    "tags": []
   },
   "outputs": [
    {
     "name": "stdout",
     "output_type": "stream",
     "text": [
      "1/1 [==============================] - 0s 85ms/step\n",
      " predicting : \n",
      "[[51.136646 51.277985 46.173622 41.272236 66.37366  33.132767 15.166649\n",
      "  59.9793   36.84864  55.669197]]\n",
      " Largest Prediction index: 4\n"
     ]
    },
    {
     "data": {
      "application/vnd.jupyter.widget-view+json": {
       "model_id": "dd7c0557105749d2bb69b3b860bf428d",
       "version_major": 2,
       "version_minor": 0
      },
      "text/html": [
       "\n",
       "            <div style=\"display: inline-block;\">\n",
       "                <div class=\"jupyter-widgets widget-label\" style=\"text-align: center;\">\n",
       "                    Figure\n",
       "                </div>\n",
       "                <img src='data:image/png;base64,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' width=640.0/>\n",
       "            </div>\n",
       "        "
      ],
      "text/plain": [
       "Canvas(toolbar=Toolbar(toolitems=[('Home', 'Reset original view', 'home', 'home'), ('Back', 'Back to previous …"
      ]
     },
     "metadata": {},
     "output_type": "display_data"
    }
   ],
   "source": [
    "#Check results with one digit\n",
    "\n",
    "image_of_four = X_test[255] #digit is 4\n",
    "plt.figure()\n",
    "plt.imshow(image_of_four.reshape((28,28)),cmap='gray')\n",
    "\n",
    "\n",
    "prediction = model.predict(image_of_four.reshape(1,784))\n",
    "print(f\" predicting : \\n{prediction}\")\n",
    "print(f\" Largest Prediction index: {np.argmax(prediction)}\")\n"
   ]
  },
  {
   "cell_type": "code",
   "execution_count": 16,
   "id": "a91fdf8c",
   "metadata": {
    "execution": {
     "iopub.execute_input": "2022-10-19T19:50:26.288373Z",
     "iopub.status.busy": "2022-10-19T19:50:26.287374Z",
     "iopub.status.idle": "2022-10-19T19:50:26.300207Z",
     "shell.execute_reply": "2022-10-19T19:50:26.298875Z"
    },
    "papermill": {
     "duration": 0.184777,
     "end_time": "2022-10-19T19:50:26.303689",
     "exception": false,
     "start_time": "2022-10-19T19:50:26.118912",
     "status": "completed"
    },
    "tags": []
   },
   "outputs": [
    {
     "name": "stdout",
     "output_type": "stream",
     "text": [
      " predicting. Probability vector: \n",
      "[[2.4094351e-07 2.7752219e-07 1.6846171e-09 1.2527264e-11 9.9830902e-01\n",
      "  3.6553559e-15 5.7589572e-23 1.6681366e-03 1.5021495e-13 2.2406655e-05]]\n",
      "Total of predictions: 1.000\n"
     ]
    }
   ],
   "source": [
    "#getting probability (Total is 1)\n",
    "prediction_p = tf.nn.softmax(prediction)\n",
    "\n",
    "print(f\" predicting. Probability vector: \\n{prediction_p}\")\n",
    "print(f\"Total of predictions: {np.sum(prediction_p):0.3f}\")"
   ]
  },
  {
   "cell_type": "code",
   "execution_count": 17,
   "id": "8fd5dd1f",
   "metadata": {
    "execution": {
     "iopub.execute_input": "2022-10-19T19:50:26.723120Z",
     "iopub.status.busy": "2022-10-19T19:50:26.722630Z",
     "iopub.status.idle": "2022-10-19T19:50:26.729737Z",
     "shell.execute_reply": "2022-10-19T19:50:26.728282Z"
    },
    "papermill": {
     "duration": 0.266954,
     "end_time": "2022-10-19T19:50:26.734547",
     "exception": false,
     "start_time": "2022-10-19T19:50:26.467593",
     "status": "completed"
    },
    "tags": []
   },
   "outputs": [
    {
     "name": "stdout",
     "output_type": "stream",
     "text": [
      "np.argmax(prediction_p): 4\n"
     ]
    }
   ],
   "source": [
    "#To return an integer representing the predicted target, you want the index of the largest probability.\n",
    "yhat = np.argmax(prediction_p)\n",
    "\n",
    "print(f\"np.argmax(prediction_p): {yhat}\")"
   ]
  },
  {
   "cell_type": "code",
   "execution_count": 18,
   "id": "f6d3e0e7",
   "metadata": {
    "execution": {
     "iopub.execute_input": "2022-10-19T19:50:27.067685Z",
     "iopub.status.busy": "2022-10-19T19:50:27.067252Z",
     "iopub.status.idle": "2022-10-19T19:50:28.532238Z",
     "shell.execute_reply": "2022-10-19T19:50:28.530662Z"
    },
    "papermill": {
     "duration": 1.634639,
     "end_time": "2022-10-19T19:50:28.535074",
     "exception": false,
     "start_time": "2022-10-19T19:50:26.900435",
     "status": "completed"
    },
    "tags": []
   },
   "outputs": [
    {
     "name": "stdout",
     "output_type": "stream",
     "text": [
      "875/875 [==============================] - 1s 2ms/step\n"
     ]
    }
   ],
   "source": [
    "#Create submissions csv with all results.\n",
    "\n",
    "results = model.predict(X_test)\n",
    "results = np.argmax(results,axis = 1)\n",
    "results = pd.Series(results,name=\"Label\")\n",
    "submission = pd.concat([pd.Series(range(1,28001),name = \"ImageId\"),results],axis = 1)\n",
    "submission.to_csv(\"submission.csv\",index=False)"
   ]
  },
  {
   "cell_type": "code",
   "execution_count": 19,
   "id": "c848deab",
   "metadata": {},
   "outputs": [
    {
     "data": {
      "text/html": [
       "<div>\n",
       "<style scoped>\n",
       "    .dataframe tbody tr th:only-of-type {\n",
       "        vertical-align: middle;\n",
       "    }\n",
       "\n",
       "    .dataframe tbody tr th {\n",
       "        vertical-align: top;\n",
       "    }\n",
       "\n",
       "    .dataframe thead th {\n",
       "        text-align: right;\n",
       "    }\n",
       "</style>\n",
       "<table border=\"1\" class=\"dataframe\">\n",
       "  <thead>\n",
       "    <tr style=\"text-align: right;\">\n",
       "      <th></th>\n",
       "      <th>ImageId</th>\n",
       "      <th>Label</th>\n",
       "    </tr>\n",
       "  </thead>\n",
       "  <tbody>\n",
       "    <tr>\n",
       "      <th>0</th>\n",
       "      <td>1</td>\n",
       "      <td>2</td>\n",
       "    </tr>\n",
       "    <tr>\n",
       "      <th>1</th>\n",
       "      <td>2</td>\n",
       "      <td>0</td>\n",
       "    </tr>\n",
       "    <tr>\n",
       "      <th>2</th>\n",
       "      <td>3</td>\n",
       "      <td>9</td>\n",
       "    </tr>\n",
       "    <tr>\n",
       "      <th>3</th>\n",
       "      <td>4</td>\n",
       "      <td>9</td>\n",
       "    </tr>\n",
       "    <tr>\n",
       "      <th>4</th>\n",
       "      <td>5</td>\n",
       "      <td>3</td>\n",
       "    </tr>\n",
       "    <tr>\n",
       "      <th>...</th>\n",
       "      <td>...</td>\n",
       "      <td>...</td>\n",
       "    </tr>\n",
       "    <tr>\n",
       "      <th>27995</th>\n",
       "      <td>27996</td>\n",
       "      <td>9</td>\n",
       "    </tr>\n",
       "    <tr>\n",
       "      <th>27996</th>\n",
       "      <td>27997</td>\n",
       "      <td>7</td>\n",
       "    </tr>\n",
       "    <tr>\n",
       "      <th>27997</th>\n",
       "      <td>27998</td>\n",
       "      <td>3</td>\n",
       "    </tr>\n",
       "    <tr>\n",
       "      <th>27998</th>\n",
       "      <td>27999</td>\n",
       "      <td>9</td>\n",
       "    </tr>\n",
       "    <tr>\n",
       "      <th>27999</th>\n",
       "      <td>28000</td>\n",
       "      <td>2</td>\n",
       "    </tr>\n",
       "  </tbody>\n",
       "</table>\n",
       "<p>28000 rows × 2 columns</p>\n",
       "</div>"
      ],
      "text/plain": [
       "       ImageId  Label\n",
       "0            1      2\n",
       "1            2      0\n",
       "2            3      9\n",
       "3            4      9\n",
       "4            5      3\n",
       "...        ...    ...\n",
       "27995    27996      9\n",
       "27996    27997      7\n",
       "27997    27998      3\n",
       "27998    27999      9\n",
       "27999    28000      2\n",
       "\n",
       "[28000 rows x 2 columns]"
      ]
     },
     "execution_count": 19,
     "metadata": {},
     "output_type": "execute_result"
    }
   ],
   "source": [
    "submission"
   ]
  },
  {
   "cell_type": "code",
   "execution_count": null,
   "id": "57b0a528",
   "metadata": {},
   "outputs": [],
   "source": []
  }
 ],
 "metadata": {
  "kernelspec": {
   "display_name": "Python 3 (ipykernel)",
   "language": "python",
   "name": "python3"
  },
  "language_info": {
   "codemirror_mode": {
    "name": "ipython",
    "version": 3
   },
   "file_extension": ".py",
   "mimetype": "text/x-python",
   "name": "python",
   "nbconvert_exporter": "python",
   "pygments_lexer": "ipython3",
   "version": "3.9.13"
  },
  "papermill": {
   "default_parameters": {},
   "duration": 173.438789,
   "end_time": "2022-10-19T19:50:31.671707",
   "environment_variables": {},
   "exception": null,
   "input_path": "__notebook__.ipynb",
   "output_path": "__notebook__.ipynb",
   "parameters": {},
   "start_time": "2022-10-19T19:47:38.232918",
   "version": "2.3.4"
  },
  "widgets": {
   "application/vnd.jupyter.widget-state+json": {
    "state": {
     "10017f5ac5b247f68f1c7c28a43cf364": {
      "model_module": "@jupyter-widgets/base",
      "model_module_version": "1.2.0",
      "model_name": "LayoutModel",
      "state": {
       "_model_module": "@jupyter-widgets/base",
       "_model_module_version": "1.2.0",
       "_model_name": "LayoutModel",
       "_view_count": null,
       "_view_module": "@jupyter-widgets/base",
       "_view_module_version": "1.2.0",
       "_view_name": "LayoutView",
       "align_content": null,
       "align_items": null,
       "align_self": null,
       "border": null,
       "bottom": null,
       "display": null,
       "flex": null,
       "flex_flow": null,
       "grid_area": null,
       "grid_auto_columns": null,
       "grid_auto_flow": null,
       "grid_auto_rows": null,
       "grid_column": null,
       "grid_gap": null,
       "grid_row": null,
       "grid_template_areas": null,
       "grid_template_columns": null,
       "grid_template_rows": null,
       "height": null,
       "justify_content": null,
       "justify_items": null,
       "left": null,
       "margin": null,
       "max_height": null,
       "max_width": null,
       "min_height": null,
       "min_width": null,
       "object_fit": null,
       "object_position": null,
       "order": null,
       "overflow": null,
       "overflow_x": null,
       "overflow_y": null,
       "padding": null,
       "right": null,
       "top": null,
       "visibility": null,
       "width": null
      }
     },
     "139ebb632f6d4ff186301b7f52e39ce9": {
      "model_module": "jupyter-matplotlib",
      "model_module_version": "^0.9.0",
      "model_name": "ToolbarModel",
      "state": {
       "_current_action": "",
       "_dom_classes": [],
       "_model_module": "jupyter-matplotlib",
       "_model_module_version": "^0.9.0",
       "_model_name": "ToolbarModel",
       "_view_count": null,
       "_view_module": "jupyter-matplotlib",
       "_view_module_version": "^0.9.0",
       "_view_name": "ToolbarView",
       "button_style": "",
       "collapsed": true,
       "layout": "IPY_MODEL_8340ea74300b44f8a65c78fcab24c575",
       "orientation": "vertical",
       "toolitems": [
        [
         "Home",
         "Reset original view",
         "home",
         "home"
        ],
        [
         "Back",
         "Back to previous view",
         "arrow-left",
         "back"
        ],
        [
         "Forward",
         "Forward to next view",
         "arrow-right",
         "forward"
        ],
        [
         "Pan",
         "Left button pans, Right button zooms\nx/y fixes axis, CTRL fixes aspect",
         "arrows",
         "pan"
        ],
        [
         "Zoom",
         "Zoom to rectangle\nx/y fixes axis",
         "square-o",
         "zoom"
        ],
        [
         "Download",
         "Download plot",
         "floppy-o",
         "save_figure"
        ]
       ]
      }
     },
     "8340ea74300b44f8a65c78fcab24c575": {
      "model_module": "@jupyter-widgets/base",
      "model_module_version": "1.2.0",
      "model_name": "LayoutModel",
      "state": {
       "_model_module": "@jupyter-widgets/base",
       "_model_module_version": "1.2.0",
       "_model_name": "LayoutModel",
       "_view_count": null,
       "_view_module": "@jupyter-widgets/base",
       "_view_module_version": "1.2.0",
       "_view_name": "LayoutView",
       "align_content": null,
       "align_items": null,
       "align_self": null,
       "border": null,
       "bottom": null,
       "display": null,
       "flex": null,
       "flex_flow": null,
       "grid_area": null,
       "grid_auto_columns": null,
       "grid_auto_flow": null,
       "grid_auto_rows": null,
       "grid_column": null,
       "grid_gap": null,
       "grid_row": null,
       "grid_template_areas": null,
       "grid_template_columns": null,
       "grid_template_rows": null,
       "height": null,
       "justify_content": null,
       "justify_items": null,
       "left": null,
       "margin": null,
       "max_height": null,
       "max_width": null,
       "min_height": null,
       "min_width": null,
       "object_fit": null,
       "object_position": null,
       "order": null,
       "overflow": null,
       "overflow_x": null,
       "overflow_y": null,
       "padding": null,
       "right": null,
       "top": null,
       "visibility": null,
       "width": null
      }
     },
     "a45f360e79a04746a3b00f88dd55b8cb": {
      "model_module": "jupyter-matplotlib",
      "model_module_version": "^0.9.0",
      "model_name": "MPLCanvasModel",
      "state": {
       "_cursor": "pointer",
       "_dom_classes": [],
       "_figure_label": "Figure",
       "_height": 0,
       "_image_mode": "full",
       "_message": "",
       "_model_module": "jupyter-matplotlib",
       "_model_module_version": "^0.9.0",
       "_model_name": "MPLCanvasModel",
       "_rubberband_height": 0,
       "_rubberband_width": 0,
       "_rubberband_x": 0,
       "_rubberband_y": 0,
       "_view_count": null,
       "_view_module": "jupyter-matplotlib",
       "_view_module_version": "^0.9.0",
       "_view_name": "MPLCanvasView",
       "_width": 0,
       "capture_scroll": false,
       "footer_visible": true,
       "header_visible": true,
       "layout": "IPY_MODEL_e164e4e555f5498a8d9d50e2bf776be5",
       "resizable": true,
       "toolbar": "IPY_MODEL_139ebb632f6d4ff186301b7f52e39ce9",
       "toolbar_position": "left",
       "toolbar_visible": true
      }
     },
     "b08a638734144cfc8298769b91c41264": {
      "model_module": "jupyter-matplotlib",
      "model_module_version": "^0.9.0",
      "model_name": "ToolbarModel",
      "state": {
       "_current_action": "",
       "_dom_classes": [],
       "_model_module": "jupyter-matplotlib",
       "_model_module_version": "^0.9.0",
       "_model_name": "ToolbarModel",
       "_view_count": null,
       "_view_module": "jupyter-matplotlib",
       "_view_module_version": "^0.9.0",
       "_view_name": "ToolbarView",
       "button_style": "",
       "collapsed": true,
       "layout": "IPY_MODEL_c052d28b0268452bb438033b43172bf4",
       "orientation": "vertical",
       "toolitems": [
        [
         "Home",
         "Reset original view",
         "home",
         "home"
        ],
        [
         "Back",
         "Back to previous view",
         "arrow-left",
         "back"
        ],
        [
         "Forward",
         "Forward to next view",
         "arrow-right",
         "forward"
        ],
        [
         "Pan",
         "Left button pans, Right button zooms\nx/y fixes axis, CTRL fixes aspect",
         "arrows",
         "pan"
        ],
        [
         "Zoom",
         "Zoom to rectangle\nx/y fixes axis",
         "square-o",
         "zoom"
        ],
        [
         "Download",
         "Download plot",
         "floppy-o",
         "save_figure"
        ]
       ]
      }
     },
     "c052d28b0268452bb438033b43172bf4": {
      "model_module": "@jupyter-widgets/base",
      "model_module_version": "1.2.0",
      "model_name": "LayoutModel",
      "state": {
       "_model_module": "@jupyter-widgets/base",
       "_model_module_version": "1.2.0",
       "_model_name": "LayoutModel",
       "_view_count": null,
       "_view_module": "@jupyter-widgets/base",
       "_view_module_version": "1.2.0",
       "_view_name": "LayoutView",
       "align_content": null,
       "align_items": null,
       "align_self": null,
       "border": null,
       "bottom": null,
       "display": null,
       "flex": null,
       "flex_flow": null,
       "grid_area": null,
       "grid_auto_columns": null,
       "grid_auto_flow": null,
       "grid_auto_rows": null,
       "grid_column": null,
       "grid_gap": null,
       "grid_row": null,
       "grid_template_areas": null,
       "grid_template_columns": null,
       "grid_template_rows": null,
       "height": null,
       "justify_content": null,
       "justify_items": null,
       "left": null,
       "margin": null,
       "max_height": null,
       "max_width": null,
       "min_height": null,
       "min_width": null,
       "object_fit": null,
       "object_position": null,
       "order": null,
       "overflow": null,
       "overflow_x": null,
       "overflow_y": null,
       "padding": null,
       "right": null,
       "top": null,
       "visibility": null,
       "width": null
      }
     },
     "e164e4e555f5498a8d9d50e2bf776be5": {
      "model_module": "@jupyter-widgets/base",
      "model_module_version": "1.2.0",
      "model_name": "LayoutModel",
      "state": {
       "_model_module": "@jupyter-widgets/base",
       "_model_module_version": "1.2.0",
       "_model_name": "LayoutModel",
       "_view_count": null,
       "_view_module": "@jupyter-widgets/base",
       "_view_module_version": "1.2.0",
       "_view_name": "LayoutView",
       "align_content": null,
       "align_items": null,
       "align_self": null,
       "border": null,
       "bottom": null,
       "display": null,
       "flex": null,
       "flex_flow": null,
       "grid_area": null,
       "grid_auto_columns": null,
       "grid_auto_flow": null,
       "grid_auto_rows": null,
       "grid_column": null,
       "grid_gap": null,
       "grid_row": null,
       "grid_template_areas": null,
       "grid_template_columns": null,
       "grid_template_rows": null,
       "height": null,
       "justify_content": null,
       "justify_items": null,
       "left": null,
       "margin": null,
       "max_height": null,
       "max_width": null,
       "min_height": null,
       "min_width": null,
       "object_fit": null,
       "object_position": null,
       "order": null,
       "overflow": null,
       "overflow_x": null,
       "overflow_y": null,
       "padding": null,
       "right": null,
       "top": null,
       "visibility": null,
       "width": null
      }
     },
     "fd33974cab944087957a96dafbd53473": {
      "model_module": "jupyter-matplotlib",
      "model_module_version": "^0.9.0",
      "model_name": "MPLCanvasModel",
      "state": {
       "_cursor": "pointer",
       "_dom_classes": [],
       "_figure_label": "Figure",
       "_height": 0,
       "_image_mode": "full",
       "_message": "",
       "_model_module": "jupyter-matplotlib",
       "_model_module_version": "^0.9.0",
       "_model_name": "MPLCanvasModel",
       "_rubberband_height": 0,
       "_rubberband_width": 0,
       "_rubberband_x": 0,
       "_rubberband_y": 0,
       "_view_count": null,
       "_view_module": "jupyter-matplotlib",
       "_view_module_version": "^0.9.0",
       "_view_name": "MPLCanvasView",
       "_width": 0,
       "capture_scroll": false,
       "footer_visible": true,
       "header_visible": true,
       "layout": "IPY_MODEL_10017f5ac5b247f68f1c7c28a43cf364",
       "resizable": true,
       "toolbar": "IPY_MODEL_b08a638734144cfc8298769b91c41264",
       "toolbar_position": "left",
       "toolbar_visible": true
      }
     }
    },
    "version_major": 2,
    "version_minor": 0
   }
  }
 },
 "nbformat": 4,
 "nbformat_minor": 5
}
